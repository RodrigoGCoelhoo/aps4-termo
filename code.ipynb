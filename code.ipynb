{
 "cells": [
  {
   "cell_type": "code",
   "execution_count": 2,
   "id": "e1319249",
   "metadata": {},
   "outputs": [],
   "source": [
    "# Importando arquivo de funcoes\n",
    "import sys  \n",
    "sys.path.insert(0, './funcoesTermosol.py')\n",
    "\n",
    "import funcoesTermosol\n",
    "\n",
    "import numpy as np"
   ]
  },
  {
   "cell_type": "code",
   "execution_count": 70,
   "id": "aef47d78",
   "metadata": {},
   "outputs": [],
   "source": [
    "numero_de_nos, nos, numero_de_membros, props_membros, numero_de_cargas, forcas_nos, numero_de_apoios, restricoes = funcoesTermosol.importa('./entrada.xls')\n"
   ]
  },
  {
   "cell_type": "code",
   "execution_count": 71,
   "id": "f3261dcb",
   "metadata": {},
   "outputs": [
    {
     "data": {
      "text/plain": [
       "(3,\n",
       " array([[0. , 0. , 0.3],\n",
       "        [0. , 0.4, 0.4]]),\n",
       " 3,\n",
       " array([[1.0e+00, 2.0e+00, 2.1e+11, 2.0e-04],\n",
       "        [2.0e+00, 3.0e+00, 2.1e+11, 2.0e-04],\n",
       "        [3.0e+00, 1.0e+00, 2.1e+11, 2.0e-04]]),\n",
       " 2,\n",
       " array([[   0.],\n",
       "        [   0.],\n",
       "        [   0.],\n",
       "        [   0.],\n",
       "        [ 150.],\n",
       "        [-100.]]),\n",
       " 3,\n",
       " array([[0.],\n",
       "        [2.],\n",
       "        [3.]]))"
      ]
     },
     "execution_count": 71,
     "metadata": {},
     "output_type": "execute_result"
    }
   ],
   "source": [
    "numero_de_nos, nos, numero_de_membros, props_membros, numero_de_cargas, forcas_nos, numero_de_apoios, restricoes\n"
   ]
  },
  {
   "cell_type": "code",
   "execution_count": 72,
   "id": "47435121",
   "metadata": {},
   "outputs": [
    {
     "data": {
      "image/png": "[encoded data removed]",
      "text/plain": [
       "<Figure size 432x288 with 1 Axes>"
      ]
     },
     "metadata": {
      "needs_background": "light"
     },
     "output_type": "display_data"
    }
   ],
   "source": [
    "funcoesTermosol.plota(nos, props_membros)"
   ]
  },
  {
   "cell_type": "code",
   "execution_count": 73,
   "id": "07b0d2ee",
   "metadata": {},
   "outputs": [],
   "source": [
    "# Funcoes suporte\n",
    "\n",
    "def getL(x1, y1, x2, y2):\n",
    "    return np.sqrt((x2-x1)**2 + (y2-y1)**2)\n",
    "\n",
    "def getK(E, A, p1, p2):\n",
    "    \n",
    "    x1 = p1[0]\n",
    "    y1 = p1[1]\n",
    "    \n",
    "    x2 = p2[0]\n",
    "    y2 = p2[1]\n",
    "    \n",
    "    L = getL(x1,y1,x2,y2)\n",
    "    \n",
    "    s = (y2 - y1)/L\n",
    "    c = (x2 - x1)/L\n",
    "    \n",
    "    K = np.array([\n",
    "        [c**2, c*s, -c**2, -c*s],\n",
    "        [c*s, s**2, -c*s, -s**2],\n",
    "        [-c**2, -c*s, c**2, c*s],\n",
    "        [-c*s, -s**2, c*s, s**2]\n",
    "    ])\n",
    "    \n",
    "    return K*(E*A/L)\n",
    "\n",
    "# GDP corresponde a 2x - 2 para X e 2x - 1 para Y.\n",
    "# Ex. Nó 1. GDL: em X --> 0, em Y --> 1\n",
    "# Ex. Nó 2. GDL: em X --> 2, em Y --> 3\n",
    "# Ex. Nó 3. GDL: em X --> 4, em Y --> 5\n",
    "\n",
    "def getGDLx(no):\n",
    "    return 2*no - 2\n",
    "\n",
    "def getGDLy(no):\n",
    "    return 2*no - 1\n",
    "\n",
    "# Matriz para passar do k do elemento para o global\n",
    "def k_elemento_2_global(k_e, lista_indexes):\n",
    "    \n",
    "    for i in range(4):\n",
    "        for j in range(4):\n",
    "            k_global[lista_indexes[i]][lista_indexes[j]] += k_e[i][j]"
   ]
  },
  {
   "cell_type": "code",
   "execution_count": 74,
   "id": "d91e158c",
   "metadata": {},
   "outputs": [
    {
     "name": "stdout",
     "output_type": "stream",
     "text": [
      "Matriz global de forças\n",
      "[[   0.]\n",
      " [ 150.]\n",
      " [-100.]]\n",
      "Matriz global de rigidez\n",
      "[[ 1.5876e+08 -4.0320e+07 -5.3760e+07]\n",
      " [-4.0320e+07  1.7024e+08  4.0320e+07]\n",
      " [-5.3760e+07  4.0320e+07  5.3760e+07]]\n"
     ]
    }
   ],
   "source": [
    "# Loop principal\n",
    "listaK = []\n",
    "k_global = np.zeros((numero_de_nos*2, numero_de_nos*2))\n",
    "\n",
    "# Loop principal\n",
    "for n in range(numero_de_nos):\n",
    "    \n",
    "    no1 = int(props_membros[n][0])\n",
    "    no2 = int(props_membros[n][1])\n",
    "    \n",
    "    # Gera a lista de GDP para cada elemento\n",
    "    GDL_indexes = [getGDLx(no1), getGDLy(no1), getGDLx(no2), getGDLy(no2)]\n",
    "    \n",
    "    # Destrincha E e A do input\n",
    "    E = props_membros[n][2]\n",
    "    A = props_membros[n][3]\n",
    "    \n",
    "    # Destrincha os nós 1 e 2 de cada elemento (ajuste de index)\n",
    "    p_no1 = (nos[0][no1 - 1], nos[1][no1 - 1])\n",
    "    p_no2 = (nos[0][no2 - 1], nos[1][no2 - 1])\n",
    "    \n",
    "    # Gera a matriz K do elemento ja com o calculo de E*A/L\n",
    "    K_elemento = getK(E, A, p_no1, p_no2)\n",
    "    \n",
    "    # Gera a matriz global\n",
    "    k_elemento_2_global(K_elemento, GDL_indexes)\n",
    "    \n",
    "#print(k_global)\n",
    "\n",
    "# Pega a matriz global e cortar as linhas e colunas com restrição\n",
    "for i in np.flip(restricoes):\n",
    "    r = int(i[0])\n",
    "    k_global = np.delete(k_global, r, 0)\n",
    "    k_global = np.delete(k_global, r, 1)\n",
    "\n",
    "# Cortando restrições da matriz global de forças\n",
    "for i in np.flip(restricoes):\n",
    "    r = int(i[0])\n",
    "    forcas_nos = np.delete(forcas_nos, r, 0)\n",
    "\n",
    "print(\"Matriz global de forças\")\n",
    "print(forcas_nos)\n",
    "print(\"Matriz global de rigidez\")\n",
    "print(k_global)"
   ]
  },
  {
   "cell_type": "code",
   "execution_count": 76,
   "id": "20747f16",
   "metadata": {},
   "outputs": [
    {
     "data": {
      "text/plain": [
       "array([[-9.52380952e-07],\n",
       "       [ 1.60714286e-06],\n",
       "       [-4.01785714e-06]])"
      ]
     },
     "execution_count": 76,
     "metadata": {},
     "output_type": "execute_result"
    }
   ],
   "source": [
    "# Solver\n",
    "np.linalg.solve(k_global, forcas_nos)"
   ]
  },
  {
   "cell_type": "code",
   "execution_count": 77,
   "id": "4f90d06d",
   "metadata": {},
   "outputs": [
    {
     "name": "stderr",
     "output_type": "stream",
     "text": [
      "/var/folders/s4/3_q0wq016y7597pk4vtjk4rm0000gn/T/ipykernel_48236/3051463499.py:18: RuntimeWarning: invalid value encountered in true_divide\n",
      "  erro = np.amax(abs((U[l, 1:n_lines_cols-1, 0]-U[l-1, 1:n_lines_cols-1, 0])/U[l, 1:n_lines_cols-1, 0]))\n"
     ]
    }
   ],
   "source": [
    "# Solver proprio\n",
    "n_lines_cols = numero_de_nos*2 - len(restricoes)\n",
    "U = np.zeros((numero_de_nos, n_lines_cols, 1))\n",
    "\n",
    "for l in range(0, numero_de_nos - 1):\n",
    "    for i in range(0, n_lines_cols):\n",
    "        soma = forcas_nos[i]\n",
    "        cont = n_lines_cols-1\n",
    "        \n",
    "        while (cont >= 0):\n",
    "            if (i != cont):\n",
    "                soma -= k_global[i][cont]*U[l,cont,0]    \n",
    "            cont-=1\n",
    "        U[l+1,i,0] = soma/k_global[i][i]\n",
    "    \n",
    "    tol = (10**(-8))\n",
    "        \n",
    "    erro = np.amax(abs((U[l, 1:n_lines_cols-1, 0]-U[l-1, 1:n_lines_cols-1, 0])/U[l, 1:n_lines_cols-1, 0]))\n",
    "    #print(erro)\n",
    "        \n",
    "    if (tol>=erro) and (l > 2):\n",
    "        print('Convergiu!',l)\n",
    "        break"
   ]
  },
  {
   "cell_type": "code",
   "execution_count": 78,
   "id": "e4be39b5",
   "metadata": {},
   "outputs": [
    {
     "data": {
      "text/plain": [
       "array([[[ 0.00000000e+00],\n",
       "        [ 0.00000000e+00],\n",
       "        [ 0.00000000e+00]],\n",
       "\n",
       "       [[ 0.00000000e+00],\n",
       "        [ 8.81109023e-07],\n",
       "        [-1.86011905e-06]],\n",
       "\n",
       "       [[-4.06107862e-07],\n",
       "        [ 1.32166353e-06],\n",
       "        [-2.52095081e-06]]])"
      ]
     },
     "execution_count": 78,
     "metadata": {},
     "output_type": "execute_result"
    }
   ],
   "source": [
    "U"
   ]
  },
  {
   "cell_type": "code",
   "execution_count": null,
   "id": "1f6e9b56",
   "metadata": {},
   "outputs": [],
   "source": []
  },
  {
   "cell_type": "code",
   "execution_count": null,
   "id": "dbb0f7e2",
   "metadata": {},
   "outputs": [],
   "source": []
  },
  {
   "cell_type": "code",
   "execution_count": null,
   "id": "0adca6f2",
   "metadata": {},
   "outputs": [],
   "source": []
  },
  {
   "cell_type": "code",
   "execution_count": 51,
   "id": "270481b0",
   "metadata": {},
   "outputs": [
    {
     "name": "stdout",
     "output_type": "stream",
     "text": [
      "Global\n",
      "[[0. 0. 0. 0. 0. 0.]\n",
      " [0. 0. 0. 0. 0. 0.]\n",
      " [0. 0. 0. 0. 0. 0.]\n",
      " [0. 0. 0. 0. 0. 0.]\n",
      " [0. 0. 0. 0. 0. 0.]\n",
      " [0. 0. 0. 0. 0. 0.]]\n",
      "K Elemento\n",
      "[[ 1.  2.  3.  4.]\n",
      " [ 5.  6.  7.  8.]\n",
      " [ 9. 10. 11. 12.]\n",
      " [13. 14. 15. 15.]]\n",
      "GDL list\n",
      "[0, 1, 4, 5]\n"
     ]
    },
    {
     "data": {
      "text/plain": [
       "array([[ 1.,  2.,  0.,  0.,  3.,  4.],\n",
       "       [ 5.,  6.,  0.,  0.,  7.,  8.],\n",
       "       [ 0.,  0.,  0.,  0.,  0.,  0.],\n",
       "       [ 0.,  0.,  0.,  0.,  0.,  0.],\n",
       "       [ 9., 10.,  0.,  0., 11., 12.],\n",
       "       [13., 14.,  0.,  0., 15., 15.]])"
      ]
     },
     "execution_count": 51,
     "metadata": {},
     "output_type": "execute_result"
    }
   ],
   "source": [
    "k_global = np.zeros((numero_de_nos*2, numero_de_nos*2))\n",
    "k_teste = np.zeros((4,4))\n",
    "k_teste[0][0] = 1\n",
    "k_teste[0][1] = 2\n",
    "k_teste[0][2] = 3\n",
    "k_teste[0][3] = 4\n",
    "k_teste[1][0] = 5\n",
    "k_teste[1][1] = 6\n",
    "k_teste[1][2] = 7\n",
    "k_teste[1][3] = 8\n",
    "k_teste[2][0] = 9\n",
    "k_teste[2][1] = 10\n",
    "k_teste[2][2] = 11\n",
    "k_teste[2][3] = 12\n",
    "k_teste[3][0] = 13\n",
    "k_teste[3][1] = 14\n",
    "k_teste[3][2] = 15\n",
    "k_teste[3][3] = 15\n",
    "\n",
    "lista_gdl = [0,1,4,5]\n",
    "\n",
    "print(\"Global\")\n",
    "print(k_global)\n",
    "print(\"K Elemento\")\n",
    "print(k_teste)\n",
    "print(\"GDL list\")\n",
    "print(lista_gdl)\n",
    "\n",
    "k_elemento_2_global(k_teste, lista_gdl)\n",
    "k_global"
   ]
  }
 ],
 "metadata": {
  "kernelspec": {
   "display_name": "Python 3 (ipykernel)",
   "language": "python",
   "name": "python3"
  },
  "language_info": {
   "codemirror_mode": {
    "name": "ipython",
    "version": 3
   },
   "file_extension": ".py",
   "mimetype": "text/x-python",
   "name": "python",
   "nbconvert_exporter": "python",
   "pygments_lexer": "ipython3",
   "version": "3.9.7"
  }
 },
 "nbformat": 4,
 "nbformat_minor": 5
}
