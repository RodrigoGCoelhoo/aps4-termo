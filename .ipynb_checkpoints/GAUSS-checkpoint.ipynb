{
 "cells": [
  {
   "cell_type": "code",
   "execution_count": 1,
   "metadata": {},
   "outputs": [],
   "source": [
    "import numpy as np"
   ]
  },
  {
   "cell_type": "code",
   "execution_count": 2,
   "metadata": {},
   "outputs": [],
   "source": [
    "numero_iteracao = 1000\n",
    "tam_matriz = 11 # 2* (numero de nos vezes) - (numero de restricoes)\n",
    "tol = 1e-8"
   ]
  },
  {
   "cell_type": "code",
   "execution_count": 3,
   "metadata": {},
   "outputs": [
    {
     "data": {
      "text/plain": [
       "(11, 11)"
      ]
     },
     "execution_count": 3,
     "metadata": {},
     "output_type": "execute_result"
    }
   ],
   "source": [
    "# K_g = np.array([[3, -0.1, -0.2], [0.1, 7, -0.3],[0.3, -0.2, 10]])\n",
    "\n",
    "#K_g = 1e8 * np.array([[1.59, -0.4, -0.54], [-0.40, 1.7, 0.40],[-0.54, 0.40, 0.54]])\n",
    "\n",
    "K_g = [[ 1.41685429e+07, -3.82846572e+05, -3.73355901e+06,\n",
    "         5.60033852e+06, -5.21749195e+06, -2.60874597e+06,\n",
    "         0.00000000e+00,  0.00000000e+00,  0.00000000e+00,\n",
    "         0.00000000e+00,  0.00000000e+00],\n",
    "       [-3.82846572e+05,  1.10092538e+07,  5.60033852e+06,\n",
    "        -8.40050778e+06, -2.60874597e+06, -1.30437299e+06,\n",
    "         0.00000000e+00,  0.00000000e+00,  0.00000000e+00,\n",
    "         0.00000000e+00,  0.00000000e+00],\n",
    "       [-3.73355901e+06,  5.60033852e+06,  1.65378385e+07,\n",
    "        -2.80016926e+06, -1.86677951e+06, -2.80016926e+06,\n",
    "        -5.46875000e+06,  0.00000000e+00,  0.00000000e+00,\n",
    "         0.00000000e+00,  0.00000000e+00],\n",
    "       [ 5.60033852e+06, -8.40050778e+06, -2.80016926e+06,\n",
    "         1.26007617e+07, -2.80016926e+06, -4.20025389e+06,\n",
    "         0.00000000e+00,  0.00000000e+00,  0.00000000e+00,\n",
    "         0.00000000e+00,  0.00000000e+00],\n",
    "       [-5.21749195e+06, -2.60874597e+06, -1.86677951e+06,\n",
    "        -2.80016926e+06,  1.41685429e+07,  9.31322575e-10,\n",
    "        -1.86677951e+06,  2.80016926e+06, -5.21749195e+06,\n",
    "         2.60874597e+06,  0.00000000e+00],\n",
    "       [-2.60874597e+06, -1.30437299e+06, -2.80016926e+06,\n",
    "        -4.20025389e+06,  9.31322575e-10,  1.10092538e+07,\n",
    "         2.80016926e+06, -4.20025389e+06,  2.60874597e+06,\n",
    "        -1.30437299e+06,  0.00000000e+00],\n",
    "       [ 0.00000000e+00,  0.00000000e+00, -5.46875000e+06,\n",
    "         0.00000000e+00, -1.86677951e+06,  2.80016926e+06,\n",
    "         1.65378385e+07,  2.80016926e+06, -3.73355901e+06,\n",
    "        -5.60033852e+06, -5.46875000e+06],\n",
    "       [ 0.00000000e+00,  0.00000000e+00,  0.00000000e+00,\n",
    "         0.00000000e+00,  2.80016926e+06, -4.20025389e+06,\n",
    "         2.80016926e+06,  1.26007617e+07, -5.60033852e+06,\n",
    "        -8.40050778e+06,  0.00000000e+00],\n",
    "       [ 0.00000000e+00,  0.00000000e+00,  0.00000000e+00,\n",
    "         0.00000000e+00, -5.21749195e+06,  2.60874597e+06,\n",
    "        -3.73355901e+06, -5.60033852e+06,  1.41685429e+07,\n",
    "         3.82846572e+05, -5.21749195e+06],\n",
    "       [ 0.00000000e+00,  0.00000000e+00,  0.00000000e+00,\n",
    "         0.00000000e+00,  2.60874597e+06, -1.30437299e+06,\n",
    "        -5.60033852e+06, -8.40050778e+06,  3.82846572e+05,\n",
    "         1.10092538e+07,  2.60874597e+06],\n",
    "       [ 0.00000000e+00,  0.00000000e+00,  0.00000000e+00,\n",
    "         0.00000000e+00,  0.00000000e+00,  0.00000000e+00,\n",
    "        -5.46875000e+06,  0.00000000e+00, -5.21749195e+06,\n",
    "         2.60874597e+06,  1.06862419e+07]]\n",
    "\n",
    "K_g = np.array(K_g)\n",
    "\n",
    "K_g.shape"
   ]
  },
  {
   "cell_type": "code",
   "execution_count": 4,
   "metadata": {},
   "outputs": [
    {
     "data": {
      "text/plain": [
       "array([-1300.])"
      ]
     },
     "execution_count": 4,
     "metadata": {},
     "output_type": "execute_result"
    }
   ],
   "source": [
    "# matriz_forca = np.array([7.85,-19.3,71.4])\n",
    "\n",
    "# matriz_forca = np.array([[0],[150],[-100]])\n",
    "\n",
    "matriz_forca = [[-1300.],\n",
    "                [-1500.],\n",
    "                [    0.],\n",
    "                [    0.],\n",
    "                [-1300.],\n",
    "                [-1500.],\n",
    "                [    0.],\n",
    "                [    0.],\n",
    "                [-1300.],\n",
    "                [-1500.],\n",
    "                [    0.]]\n",
    "\n",
    "matriz_forca = np.array(matriz_forca)\n",
    "\n",
    "matriz_forca[0]"
   ]
  },
  {
   "cell_type": "code",
   "execution_count": 5,
   "metadata": {},
   "outputs": [],
   "source": [
    "def resolve_gauss(ite, tol, n, K, F):\n",
    "    U = np.zeros((n, 1))\n",
    "    U_before = np.zeros((n, 1))\n",
    "    errors = np.ones((n, 1))\n",
    "    \n",
    "    count = 0\n",
    "    while (count < ite):\n",
    "        for i in range(n):\n",
    "            U_before[i] = U[i] # realocando os valores de U para uma nova iteração\n",
    "        for i in range(n):\n",
    "            numerator = 0\n",
    "            for j in range(n):\n",
    "                if (j != i): # não queremos os valores da diagonal principal\n",
    "                    numerator -= K[i][j]*U[j]    \n",
    "            U[i] = (F[i]+numerator)/K[i][i]\n",
    "            errors[i] = abs((U[i] - U_before[i])/U[i]) # os valores de erro para da componente do vetor de deslocamento \n",
    "                                                       # são adicionados em uma matriz de erro de dimensão nx1\n",
    "        # pegamos o valor máximo dessa matriz\n",
    "        error = np.amax(errors)\n",
    "        count+=1\n",
    "        \n",
    "        # comparamos seu valor com a tolerância\n",
    "        if error <= tol :\n",
    "            print('Convergência atingida !')\n",
    "            print('vetor U: ')\n",
    "            print('----------------------')\n",
    "            print(U)\n",
    "            return U\n",
    "            \n",
    "    return 'Não convergiu'"
   ]
  },
  {
   "cell_type": "code",
   "execution_count": 6,
   "metadata": {},
   "outputs": [
    {
     "name": "stdout",
     "output_type": "stream",
     "text": [
      "Convergência atingida !\n",
      "vetor U: \n",
      "----------------------\n",
      "[[ 0.00097027]\n",
      " [-0.00416384]\n",
      " [ 0.00034743]\n",
      " [-0.00450318]\n",
      " [ 0.00025083]\n",
      " [-0.00428701]\n",
      " [ 0.00053943]\n",
      " [-0.00447852]\n",
      " [-0.00031315]\n",
      " [-0.00410208]\n",
      " [ 0.00112457]]\n"
     ]
    }
   ],
   "source": [
    "U_analitico = resolve_gauss(1000, tol, tam_matriz, K_g, matriz_forca)"
   ]
  },
  {
   "cell_type": "code",
   "execution_count": 7,
   "metadata": {},
   "outputs": [],
   "source": [
    "# Vetor U obtido de forma numérica\n",
    "U_numerico = [[ 0.00097028],\n",
    "              [-0.00416384],\n",
    "              [ 0.00034743],\n",
    "              [-0.00450318],\n",
    "              [ 0.00025083],\n",
    "              [-0.00428701],\n",
    "              [ 0.00053943],\n",
    "              [-0.00447852],\n",
    "              [-0.00031315],\n",
    "              [-0.00410209],\n",
    "              [ 0.00112457]]"
   ]
  }
 ],
 "metadata": {
  "kernelspec": {
   "display_name": "Python 3 (ipykernel)",
   "language": "python",
   "name": "python3"
  },
  "language_info": {
   "codemirror_mode": {
    "name": "ipython",
    "version": 3
   },
   "file_extension": ".py",
   "mimetype": "text/x-python",
   "name": "python",
   "nbconvert_exporter": "python",
   "pygments_lexer": "ipython3",
   "version": "3.9.7"
  }
 },
 "nbformat": 4,
 "nbformat_minor": 4
}
