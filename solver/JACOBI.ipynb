{
 "cells": [
  {
   "cell_type": "code",
   "execution_count": 1,
   "metadata": {},
   "outputs": [],
   "source": [
    "import numpy as np"
   ]
  },
  {
   "cell_type": "code",
   "execution_count": 7,
   "metadata": {},
   "outputs": [
    {
     "data": {
      "text/plain": [
       "0"
      ]
     },
     "execution_count": 7,
     "metadata": {},
     "output_type": "execute_result"
    }
   ],
   "source": [
    "numero_iteracao = 1000\n",
    "tam_matriz = 3 # 2* (numero de nos vezes) - (numero de restricoes)\n",
    "tol = 1e-8\n",
    "\n",
    "K_g = np.array([[1.5876,-0.4032,-0.5376], [-0.4032,1.7024,0.4032],[-0.5376,0.4032,0.5376]])\n",
    "matriz_forca = np.array([0,150,-100])\n",
    "matriz_forca[0]"
   ]
  },
  {
   "cell_type": "code",
   "execution_count": 6,
   "metadata": {},
   "outputs": [
    {
     "data": {
      "text/plain": [
       "(array([[ 1.5876, -0.4032, -0.5376],\n",
       "        [-0.4032,  1.7024,  0.4032],\n",
       "        [-0.5376,  0.4032,  0.5376]]),\n",
       " array([   0,  150, -100]))"
      ]
     },
     "execution_count": 6,
     "metadata": {},
     "output_type": "execute_result"
    }
   ],
   "source": [
    "K_g, matriz_forca"
   ]
  },
  {
   "cell_type": "code",
   "execution_count": 3,
   "metadata": {},
   "outputs": [],
   "source": [
    "# K_g = np.array([[3, -0.1, -0.2], [0.1, 7, -0.3],[0.3, -0.2, 10]])"
   ]
  },
  {
   "cell_type": "code",
   "execution_count": 4,
   "metadata": {},
   "outputs": [],
   "source": [
    "def jacobi(ite, tol, n, K, F):\n",
    "    U = np.zeros((ite+1,n))\n",
    "    U[:,:] = 1.0\n",
    "    \n",
    "    for t in range(ite):\n",
    "        for i in range(n):\n",
    "            soma = F[i]\n",
    "            count = n-1\n",
    "            \n",
    "            for j in range(count, -1, -1):\n",
    "                 if (i != j):\n",
    "                    soma -= K[i][j]*U[t,j]\n",
    "            U[t+1,i] = soma/K[i][i]\n",
    "        \n",
    "        anterior = U[t, 1:n-1]\n",
    "        atual = U[t+1, 1:n-1]\n",
    "        erro = np.amax(abs((atual - anterior)/atual))\n",
    "\n",
    "        if (tol>=erro):\n",
    "            print(f'Convergência atingida na iteração: {t}')\n",
    "            return U[t]\n",
    "    return 'Não convergiu'"
   ]
  },
  {
   "cell_type": "code",
   "execution_count": 5,
   "metadata": {},
   "outputs": [
    {
     "name": "stdout",
     "output_type": "stream",
     "text": [
      "Convergência atingida na iteração: 184\n"
     ]
    }
   ],
   "source": [
    "a = jacobi(200, tol, tam_matriz, K_g*1e8, matriz_forca) "
   ]
  },
  {
   "cell_type": "code",
   "execution_count": 9,
   "metadata": {},
   "outputs": [
    {
     "data": {
      "text/plain": [
       "150"
      ]
     },
     "execution_count": 9,
     "metadata": {},
     "output_type": "execute_result"
    }
   ],
   "source": [
    "matriz_forca[1]"
   ]
  },
  {
   "cell_type": "code",
   "execution_count": null,
   "metadata": {},
   "outputs": [],
   "source": []
  }
 ],
 "metadata": {
  "kernelspec": {
   "display_name": "Python 3 (ipykernel)",
   "language": "python",
   "name": "python3"
  },
  "language_info": {
   "codemirror_mode": {
    "name": "ipython",
    "version": 3
   },
   "file_extension": ".py",
   "mimetype": "text/x-python",
   "name": "python",
   "nbconvert_exporter": "python",
   "pygments_lexer": "ipython3",
   "version": "3.9.7"
  }
 },
 "nbformat": 4,
 "nbformat_minor": 4
}
