{
 "cells": [
  {
   "cell_type": "code",
   "execution_count": 1,
   "metadata": {},
   "outputs": [],
   "source": [
    "import numpy as np"
   ]
  },
  {
   "cell_type": "code",
   "execution_count": 2,
   "metadata": {},
   "outputs": [],
   "source": [
    "numero_iteracao = 1000\n",
    "tam_matriz = 3 # 2* (numero de nos vezes) - (numero de restricoes)\n",
    "tol = 1e-20\n",
    "\n",
    "K_g = np.array([[1.59,-0.4,-0.54], [-0.4,1.7,0.4],[-0.54,0.4,0.54]])\n",
    "matriz_forca = np.array([0,150,-100])"
   ]
  },
  {
   "cell_type": "code",
   "execution_count": 3,
   "metadata": {},
   "outputs": [],
   "source": [
    "def jacobi(ite, tol, n, K, F):\n",
    "    U = np.zeros((ite,n))\n",
    "    U[:,:] = 1\n",
    "    \n",
    "    for t in range(ite-1):\n",
    "        for i in range(n):\n",
    "            soma = F[i]\n",
    "            count = n-1\n",
    "            \n",
    "            for j in range(count, -1, -1):\n",
    "                 if (i != j):\n",
    "                    soma -= K[i][j]*U[t,j]\n",
    "            U[t+1,i] = soma/K[i][i]\n",
    "        \n",
    "        prior = U[t-1, 1:n-1]\n",
    "        posterior = U[t, 1:n-1]\n",
    "        erro = np.amax(abs((prior - posterior)/posterior))\n",
    "\n",
    "        if (tol>=erro) and (t > 2):\n",
    "            print(f'Convergência atingida na iteração: {t}')\n",
    "            return U[t]\n",
    "    return \"Não convergiu\""
   ]
  },
  {
   "cell_type": "code",
   "execution_count": 4,
   "metadata": {},
   "outputs": [
    {
     "name": "stdout",
     "output_type": "stream",
     "text": [
      "Convergência atingida na iteração: 195\n"
     ]
    },
    {
     "data": {
      "text/plain": [
       "array([-9.52380952e-07,  1.59630607e-06, -3.98668174e-06])"
      ]
     },
     "execution_count": 4,
     "metadata": {},
     "output_type": "execute_result"
    }
   ],
   "source": [
    "jacobi(numero_iteracao, tol, tam_matriz, K_g, matriz_forca) / 1e8"
   ]
  }
 ],
 "metadata": {
  "kernelspec": {
   "display_name": "Python 3",
   "language": "python",
   "name": "python3"
  },
  "language_info": {
   "codemirror_mode": {
    "name": "ipython",
    "version": 3
   },
   "file_extension": ".py",
   "mimetype": "text/x-python",
   "name": "python",
   "nbconvert_exporter": "python",
   "pygments_lexer": "ipython3",
   "version": "3.8.3"
  }
 },
 "nbformat": 4,
 "nbformat_minor": 4
}
